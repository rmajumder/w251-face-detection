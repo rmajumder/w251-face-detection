{
  "nbformat": 4,
  "nbformat_minor": 0,
  "metadata": {
    "colab": {
      "name": "ImageRecognition.ipynb",
      "version": "0.3.2",
      "provenance": [],
      "collapsed_sections": []
    },
    "kernelspec": {
      "name": "python3",
      "display_name": "Python 3"
    }
  },
  "cells": [
    {
      "cell_type": "markdown",
      "metadata": {
        "id": "view-in-github",
        "colab_type": "text"
      },
      "source": [
        "<a href=\"https://colab.research.google.com/github/rmajumder/w251-face-detection/blob/master/ImageRecognition.ipynb\" target=\"_parent\"><img src=\"https://colab.research.google.com/assets/colab-badge.svg\" alt=\"Open In Colab\"/></a>"
      ]
    },
    {
      "cell_type": "code",
      "metadata": {
        "id": "yUeg0a9fpRJs",
        "colab_type": "code",
        "outputId": "0bef24e9-1894-4feb-b985-dc04d91d9725",
        "colab": {
          "base_uri": "https://localhost:8080/",
          "height": 372
        }
      },
      "source": [
        "!pip install git+https://github.com/rcmalli/keras-vggface.git"
      ],
      "execution_count": 1,
      "outputs": [
        {
          "output_type": "stream",
          "text": [
            "Collecting git+https://github.com/rcmalli/keras-vggface.git\n",
            "  Cloning https://github.com/rcmalli/keras-vggface.git to /tmp/pip-req-build-jtlr7_8e\n",
            "  Running command git clone -q https://github.com/rcmalli/keras-vggface.git /tmp/pip-req-build-jtlr7_8e\n",
            "Requirement already satisfied: numpy>=1.9.1 in /usr/local/lib/python3.6/dist-packages (from keras-vggface==0.6) (1.16.4)\n",
            "Requirement already satisfied: scipy>=0.14 in /usr/local/lib/python3.6/dist-packages (from keras-vggface==0.6) (1.3.0)\n",
            "Requirement already satisfied: h5py in /usr/local/lib/python3.6/dist-packages (from keras-vggface==0.6) (2.8.0)\n",
            "Requirement already satisfied: pillow in /usr/local/lib/python3.6/dist-packages (from keras-vggface==0.6) (4.3.0)\n",
            "Requirement already satisfied: keras in /usr/local/lib/python3.6/dist-packages (from keras-vggface==0.6) (2.2.4)\n",
            "Requirement already satisfied: six>=1.9.0 in /usr/local/lib/python3.6/dist-packages (from keras-vggface==0.6) (1.12.0)\n",
            "Requirement already satisfied: pyyaml in /usr/local/lib/python3.6/dist-packages (from keras-vggface==0.6) (3.13)\n",
            "Requirement already satisfied: olefile in /usr/local/lib/python3.6/dist-packages (from pillow->keras-vggface==0.6) (0.46)\n",
            "Requirement already satisfied: keras-applications>=1.0.6 in /usr/local/lib/python3.6/dist-packages (from keras->keras-vggface==0.6) (1.0.8)\n",
            "Requirement already satisfied: keras-preprocessing>=1.0.5 in /usr/local/lib/python3.6/dist-packages (from keras->keras-vggface==0.6) (1.1.0)\n",
            "Building wheels for collected packages: keras-vggface\n",
            "  Building wheel for keras-vggface (setup.py) ... \u001b[?25l\u001b[?25hdone\n",
            "  Created wheel for keras-vggface: filename=keras_vggface-0.6-cp36-none-any.whl size=8311 sha256=788dde9bb2a5c8baa827e372b3c0b572abc1e0108c490c38c5f04c1ed8613a79\n",
            "  Stored in directory: /tmp/pip-ephem-wheel-cache-z_nhykih/wheels/36/07/46/06c25ce8e9cd396dabe151ea1d8a2bc28dafcb11321c1f3a6d\n",
            "Successfully built keras-vggface\n",
            "Installing collected packages: keras-vggface\n",
            "Successfully installed keras-vggface-0.6\n"
          ],
          "name": "stdout"
        }
      ]
    },
    {
      "cell_type": "code",
      "metadata": {
        "id": "rIvUF_QerSOT",
        "colab_type": "code",
        "outputId": "e60ac0b1-b0a0-43c7-a9e7-fd89afad79c9",
        "colab": {
          "base_uri": "https://localhost:8080/",
          "height": 195
        }
      },
      "source": [
        "!pip install mtcnn"
      ],
      "execution_count": 2,
      "outputs": [
        {
          "output_type": "stream",
          "text": [
            "Collecting mtcnn\n",
            "\u001b[?25l  Downloading https://files.pythonhosted.org/packages/9e/c7/8546b18fbd367b156c5bbbbaa8912ab31c8129171523ff8b47b546d70b09/mtcnn-0.0.9.tar.gz (2.3MB)\n",
            "\u001b[K     |████████████████████████████████| 2.3MB 3.9MB/s \n",
            "\u001b[?25hBuilding wheels for collected packages: mtcnn\n",
            "  Building wheel for mtcnn (setup.py) ... \u001b[?25l\u001b[?25hdone\n",
            "  Created wheel for mtcnn: filename=mtcnn-0.0.9-cp36-none-any.whl size=2257692 sha256=c636172f199cf48b25b6932e4ee215b7c716990b0843b259fc65af161d20b29e\n",
            "  Stored in directory: /root/.cache/pip/wheels/85/81/65/6363fa5aafd7a155c896591e0c7c6e27b69642aa82b9cbf076\n",
            "Successfully built mtcnn\n",
            "Installing collected packages: mtcnn\n",
            "Successfully installed mtcnn-0.0.9\n"
          ],
          "name": "stdout"
        }
      ]
    },
    {
      "cell_type": "code",
      "metadata": {
        "id": "e0V-uKe-rdiR",
        "colab_type": "code",
        "outputId": "2d4b9623-11bf-4b3b-c5d9-ab86a6d823d9",
        "colab": {
          "base_uri": "https://localhost:8080/",
          "height": 35
        }
      },
      "source": [
        "\n",
        "# face verification with the VGGFace2 model\n",
        "from matplotlib import pyplot\n",
        "from PIL import Image\n",
        "from numpy import asarray\n",
        "from scipy.spatial.distance import cosine\n",
        "from mtcnn.mtcnn import MTCNN\n",
        "from keras_vggface.vggface import VGGFace\n",
        "from keras_vggface.utils import preprocess_input"
      ],
      "execution_count": 3,
      "outputs": [
        {
          "output_type": "stream",
          "text": [
            "Using TensorFlow backend.\n"
          ],
          "name": "stderr"
        }
      ]
    },
    {
      "cell_type": "code",
      "metadata": {
        "id": "HcLFdQwdpnrw",
        "colab_type": "code",
        "outputId": "94e3ebab-8a4d-49de-bc59-ef0d905ab07b",
        "colab": {
          "base_uri": "https://localhost:8080/",
          "height": 126
        }
      },
      "source": [
        "from google.colab import drive\n",
        "drive.mount('/content/drive')"
      ],
      "execution_count": 4,
      "outputs": [
        {
          "output_type": "stream",
          "text": [
            "Go to this URL in a browser: https://accounts.google.com/o/oauth2/auth?client_id=947318989803-6bn6qk8qdgf4n4g3pfee6491hc0brc4i.apps.googleusercontent.com&redirect_uri=urn%3Aietf%3Awg%3Aoauth%3A2.0%3Aoob&scope=email%20https%3A%2F%2Fwww.googleapis.com%2Fauth%2Fdocs.test%20https%3A%2F%2Fwww.googleapis.com%2Fauth%2Fdrive%20https%3A%2F%2Fwww.googleapis.com%2Fauth%2Fdrive.photos.readonly%20https%3A%2F%2Fwww.googleapis.com%2Fauth%2Fpeopleapi.readonly&response_type=code\n",
            "\n",
            "Enter your authorization code:\n",
            "··········\n",
            "Mounted at /content/drive\n"
          ],
          "name": "stdout"
        }
      ]
    },
    {
      "cell_type": "code",
      "metadata": {
        "id": "NVisLieiposS",
        "colab_type": "code",
        "colab": {}
      },
      "source": [
        "# extract a single face from a given photograph\n",
        "def extract_face(filename, required_size=(224, 224)):\n",
        "\t# load image from file\n",
        "\tpixels = pyplot.imread(filename)\n",
        "\t# create the detector, using default weights\n",
        "\tdetector = MTCNN()\n",
        "\t\n",
        "\t# detect faces in the image\n",
        "\t#pixels = Image.fromarray(pixels).resize((500,500))\n",
        "\tresults = detector.detect_faces(pixels)\n",
        "\t\n",
        "\t# extract the bounding box from the first face\n",
        "\tx1, y1, width, height = results[0]['box']\n",
        "\tx2, y2 = x1 + width, y1 + height\n",
        "\t\n",
        "\t# extract the face\n",
        "\tface = pixels[y1:y2, x1:x2]\n",
        "\t# resize pixels to the model size\n",
        "\timage = Image.fromarray(face)\n",
        "\timage = image.resize(required_size)\n",
        "\tface_array = asarray(image)\n",
        "\treturn face_array\n",
        "\n",
        "\n",
        "# extract faces and calculate face embeddings for a list of photo files\n",
        "def get_embeddings(filenames):\n",
        "\t# extract faces\n",
        "\tfaces = [extract_face(f) for f in filenames]\n",
        "\t# convert into an array of samples\n",
        "\tsamples = asarray(faces, 'float32')\n",
        "\t# prepare the face for the model, e.g. center pixels\n",
        "\tsamples = preprocess_input(samples, version=2)\n",
        "\t# create a vggface model\n",
        "\tmodel = VGGFace(model='resnet50', include_top=False, input_shape=(224, 224, 3), pooling='avg')\n",
        "\t# perform prediction\n",
        "\tyhat = model.predict(samples)\n",
        "\treturn yhat\n",
        "\n",
        "# determine if a candidate face is a match for a known face\n",
        "def is_match(known_embedding, candidate_embedding, thresh=0.5):\n",
        "\t# calculate distance between embeddings\n",
        "\tscore = cosine(known_embedding, candidate_embedding)\n",
        "\tif score <= thresh:\n",
        "\t\tprint('>face is a Match (%.3f <= %.3f)' % (score, thresh))\n",
        "\telse:\n",
        "\t\tprint('>face is NOT a Match (%.3f > %.3f)' % (score, thresh))\n"
      ],
      "execution_count": 0,
      "outputs": []
    },
    {
      "cell_type": "code",
      "metadata": {
        "id": "lN8zzMZx0VIU",
        "colab_type": "code",
        "outputId": "471e61fb-0a0d-400f-c23a-f4e0560d5750",
        "colab": {
          "base_uri": "https://localhost:8080/",
          "height": 177
        }
      },
      "source": [
        "!ls\n",
        "!ls drive/\"My Drive\"/w251/w251"
      ],
      "execution_count": 6,
      "outputs": [
        {
          "output_type": "stream",
          "text": [
            "drive  sample_data\n",
            "01.png\t\t    face_recognition_tx2.py  rishi-240.png\n",
            "Augmentation.ipynb  IdentifyFaceTX2.ipynb    rishi-60.png\n",
            "ben1.png\t    ImageRecognition.ipynb   rishi.jpeg\n",
            "ben.png\t\t    images-rishi\t     rishi.png\n",
            "CameraRoll\t    README.md\t\t     send_email_attach_aws_ses.py\n",
            "cat1.png\t    retrain_model.ipynb      sharon_stone1.jpg\n",
            "channing_tatum.jpg  rishi-120.png\t     sharon_stone2.jpg\n",
            "dog1.png\t    rishi-240.jpg\t     sharon_stone3.jpg\n"
          ],
          "name": "stdout"
        }
      ]
    },
    {
      "cell_type": "code",
      "metadata": {
        "id": "BvQwPgP-sRQq",
        "colab_type": "code",
        "outputId": "4168938a-c940-49f8-a2fd-92bcbf3a6e43",
        "colab": {
          "base_uri": "https://localhost:8080/",
          "height": 606
        }
      },
      "source": [
        "# define filenames\n",
        "filenames = ['drive/My Drive/w251/w251/rishi.jpeg', 'drive/My Drive/w251/w251/rishi-240.jpg',\n",
        "\t'drive/My Drive/w251/w251/sharon_stone3.jpg', 'drive/My Drive/w251/w251/channing_tatum.jpg']\n",
        "# get embeddings file filenames\n",
        "embeddings = get_embeddings(filenames)\n",
        "# define sharon stone\n",
        "sharon_id = embeddings[0]\n",
        "# verify known photos of sharon\n",
        "print('Positive Tests')\n",
        "is_match(embeddings[0], embeddings[1])\n",
        "is_match(embeddings[0], embeddings[2])\n",
        "# verify known photos of other people\n",
        "print('Negative Tests')\n",
        "is_match(embeddings[0], embeddings[3])"
      ],
      "execution_count": 7,
      "outputs": [
        {
          "output_type": "stream",
          "text": [
            "WARNING: Logging before flag parsing goes to stderr.\n",
            "W0807 05:05:37.919855 139936176129920 deprecation_wrapper.py:119] From /usr/local/lib/python3.6/dist-packages/mtcnn/mtcnn.py:187: The name tf.ConfigProto is deprecated. Please use tf.compat.v1.ConfigProto instead.\n",
            "\n",
            "W0807 05:05:37.959565 139936176129920 deprecation_wrapper.py:119] From /usr/local/lib/python3.6/dist-packages/mtcnn/mtcnn.py:193: The name tf.Session is deprecated. Please use tf.compat.v1.Session instead.\n",
            "\n",
            "W0807 05:05:38.029297 139936176129920 deprecation_wrapper.py:119] From /usr/local/lib/python3.6/dist-packages/mtcnn/network.py:43: The name tf.variable_scope is deprecated. Please use tf.compat.v1.variable_scope instead.\n",
            "\n",
            "W0807 05:05:38.031307 139936176129920 deprecation_wrapper.py:119] From /usr/local/lib/python3.6/dist-packages/mtcnn/layer_factory.py:88: The name tf.placeholder is deprecated. Please use tf.compat.v1.placeholder instead.\n",
            "\n",
            "W0807 05:05:38.040428 139936176129920 deprecation_wrapper.py:119] From /usr/local/lib/python3.6/dist-packages/mtcnn/layer_factory.py:79: The name tf.get_variable is deprecated. Please use tf.compat.v1.get_variable instead.\n",
            "\n",
            "W0807 05:05:38.042532 139936176129920 deprecation.py:506] From /usr/local/lib/python3.6/dist-packages/tensorflow/python/ops/init_ops.py:1251: calling VarianceScaling.__init__ (from tensorflow.python.ops.init_ops) with dtype is deprecated and will be removed in a future version.\n",
            "Instructions for updating:\n",
            "Call initializer instance with the dtype argument instead of passing it to the constructor\n",
            "W0807 05:05:38.102585 139936176129920 deprecation_wrapper.py:119] From /usr/local/lib/python3.6/dist-packages/mtcnn/layer_factory.py:171: The name tf.nn.max_pool is deprecated. Please use tf.nn.max_pool2d instead.\n",
            "\n",
            "W0807 05:05:38.200233 139936176129920 deprecation.py:323] From /usr/local/lib/python3.6/dist-packages/mtcnn/layer_factory.py:221: div (from tensorflow.python.ops.math_ops) is deprecated and will be removed in a future version.\n",
            "Instructions for updating:\n",
            "Deprecated in favor of operator or tf.math.divide.\n",
            "W0807 05:05:38.694142 139936176129920 deprecation_wrapper.py:119] From /usr/local/lib/python3.6/dist-packages/mtcnn/layer_factory.py:196: The name tf.nn.xw_plus_b is deprecated. Please use tf.compat.v1.nn.xw_plus_b instead.\n",
            "\n",
            "W0807 05:05:53.153801 139936176129920 deprecation_wrapper.py:119] From /usr/local/lib/python3.6/dist-packages/keras/backend/tensorflow_backend.py:1834: The name tf.nn.fused_batch_norm is deprecated. Please use tf.compat.v1.nn.fused_batch_norm instead.\n",
            "\n",
            "W0807 05:05:58.714975 139936176129920 deprecation_wrapper.py:119] From /usr/local/lib/python3.6/dist-packages/keras/backend/tensorflow_backend.py:3980: The name tf.nn.avg_pool is deprecated. Please use tf.nn.avg_pool2d instead.\n",
            "\n"
          ],
          "name": "stderr"
        },
        {
          "output_type": "stream",
          "text": [
            "Downloading data from https://github.com/rcmalli/keras-vggface/releases/download/v2.0/rcmalli_vggface_tf_notop_resnet50.h5\n",
            "94699520/94694792 [==============================] - 3s 0us/step\n",
            "Positive Tests\n",
            ">face is a Match (0.065 <= 0.500)\n",
            ">face is NOT a Match (0.833 > 0.500)\n",
            "Negative Tests\n",
            ">face is NOT a Match (0.686 > 0.500)\n"
          ],
          "name": "stdout"
        }
      ]
    },
    {
      "cell_type": "code",
      "metadata": {
        "id": "Axun0dQmu9i-",
        "colab_type": "code",
        "colab": {
          "base_uri": "https://localhost:8080/",
          "height": 35
        },
        "outputId": "91c4ddc8-5a16-47e6-b89a-e73e4bf2cd04"
      },
      "source": [
        "#title Adding protection against pictures of people\n",
        "def is_match_is_picture(known_embedding, candidate_embedding, picture_of_candidate, thresh=0.5):\n",
        "\t# calculate distance between embeddings\n",
        "\tscore = cosine(known_embedding, candidate_embedding)\n",
        "\tif score <= thresh:\n",
        "\t\tpicture_score= cosine(known_embedding, picture_of_candidate)\n",
        "\t\tif score < picture_score:\n",
        "\t\t\tprint('>face is a Match (%.3f <= %.3f)' % (score, thresh))\n",
        "\t\t\treturn 1\n",
        "\t\telse:\n",
        "\t\t\tprint('>face is a picture (%.3f <= %.3f)'% (score, picture_score))\n",
        "\t\t\treturn 0\n",
        "\telse:\n",
        "\t\tprint('>face is NOT a Match (%.3f > %.3f)' % (score, thresh))\n",
        "\t\treturn -100\n",
        "\n",
        "# define filenames\n",
        "filenames = ['drive/My Drive/w251/w251/CameraRoll/rodrigo_webcam.jpg',\n",
        "'drive/My Drive/w251/w251/CameraRoll/rigo_webcam_down.jpg',\n",
        "'drive/My Drive/w251/w251/CameraRoll/rigo_webcam_side.jpg',\t\n",
        "'drive/My Drive/w251/w251/CameraRoll/IMG-20190806-WA0022.jpg',\n",
        "'drive/My Drive/w251/w251/CameraRoll/IMG-20190806-WA0020.jpg',\n",
        "'drive/My Drive/w251/w251/CameraRoll/IMG-20190806-WA0021.jpg',\n",
        "'drive/My Drive/w251/w251/CameraRoll/rodrigo_pic_of_pic.jpg',\n",
        "'drive/My Drive/w251/w251/CameraRoll/rigo_pic_of_pic.jpg','drive/My Drive/w251/w251/CameraRoll/pic_of_pic_1.jpg','drive/My Drive/w251/w251/CameraRoll/pic_of_pic3.jpg',\n",
        "'drive/My Drive/w251/w251/CameraRoll/pic_of_pic_d2.jpg']\n",
        "\n",
        "# get embeddings file filenames\n",
        "embeddings_pics = get_embeddings(filenames)\n",
        "# define sharon stone\n",
        "sharon_id = embeddings[0]\n",
        "# verify known photos of sharon\n",
        "print('Positive Tests')\n"
      ],
      "execution_count": 59,
      "outputs": [
        {
          "output_type": "stream",
          "text": [
            "Positive Tests\n"
          ],
          "name": "stdout"
        }
      ]
    },
    {
      "cell_type": "code",
      "metadata": {
        "id": "NJKic57gpCxb",
        "colab_type": "code",
        "colab": {
          "base_uri": "https://localhost:8080/",
          "height": 1000
        },
        "outputId": "994e8f8e-bcb5-4bea-fce8-b643c7c8ea5e"
      },
      "source": [
        "webcams=[0,1,2]\n",
        "phones=[3,4,5]\n",
        "webcam2phone=[6,7,8,9,10]\n",
        "p1=0;p2=0;p3=0\n",
        "#webcam, webcam, webcam2phone\n",
        "is_match_is_picture(embeddings_pics[0], embeddings_pics[2], embeddings_pics[8], thresh=0.5)\n",
        "#phone, phone, webcam2phone\n",
        "is_match_is_picture(embeddings_pics[3], embeddings_pics[4], embeddings_pics[8], thresh=0.5)\n",
        "#phone, webcam, webcam2phone\n",
        "count1=0\n",
        "for w2p in webcam2phone:\n",
        "  for webcam in webcams:\n",
        "    for phone in phones:\n",
        "      count1=count1+1\n",
        "      p1=p1+is_match_is_picture(embeddings_pics[phone], embeddings_pics[webcam], embeddings_pics[w2p], thresh=0.5)\n",
        "\n",
        "# verify known photos of other people\n",
        "print('Negative Tests')\n",
        "count2=0\n",
        "\n",
        "for w2p in webcam2phone:\n",
        "  for w2p2 in [w2p2  for w2p2 in webcam2phone if w2p is not w2p2]:\n",
        "    for webcam in webcams:\n",
        "#web, webcam2phone, webcam2phone\n",
        "      count2=count2+1 \n",
        "      p2=p2+is_match_is_picture(embeddings_pics[webcam], embeddings_pics[w2p], embeddings_pics[w2p2], thresh=0.5)\n",
        "#phone, webcam2phone, webcam2phone\n",
        "\n",
        "for w2p in webcam2phone:\n",
        "  for w2p2 in [w2p2 for w2p2 in webcam2phone if w2p is not w2p2]:\n",
        "    for phone in phones:\n",
        "      p3=p3+is_match_is_picture(embeddings_pics[phone], embeddings_pics[w2p], embeddings_pics[w2p2], thresh=0.5)\n",
        "print(p1/count1, p2/count2, p3/count2)"
      ],
      "execution_count": 64,
      "outputs": [
        {
          "output_type": "stream",
          "text": [
            ">face is a Match (0.173 <= 0.500)\n",
            ">face is a picture (0.291 <= 0.150)\n",
            ">face is a picture (0.176 <= 0.076)\n",
            ">face is a Match (0.240 <= 0.500)\n",
            ">face is a Match (0.337 <= 0.500)\n",
            ">face is a picture (0.226 <= 0.076)\n",
            ">face is a Match (0.238 <= 0.500)\n",
            ">face is a picture (0.354 <= 0.351)\n",
            ">face is a picture (0.225 <= 0.076)\n",
            ">face is a picture (0.362 <= 0.347)\n",
            ">face is a picture (0.363 <= 0.351)\n",
            ">face is a picture (0.176 <= 0.143)\n",
            ">face is a Match (0.240 <= 0.500)\n",
            ">face is a Match (0.337 <= 0.500)\n",
            ">face is a picture (0.226 <= 0.143)\n",
            ">face is a Match (0.238 <= 0.500)\n",
            ">face is a Match (0.354 <= 0.500)\n",
            ">face is a picture (0.225 <= 0.143)\n",
            ">face is a picture (0.362 <= 0.329)\n",
            ">face is a picture (0.363 <= 0.358)\n",
            ">face is a picture (0.176 <= 0.150)\n",
            ">face is a Match (0.240 <= 0.500)\n",
            ">face is a Match (0.337 <= 0.500)\n",
            ">face is a picture (0.226 <= 0.150)\n",
            ">face is a Match (0.238 <= 0.500)\n",
            ">face is a picture (0.354 <= 0.352)\n",
            ">face is a picture (0.225 <= 0.150)\n",
            ">face is a Match (0.362 <= 0.500)\n",
            ">face is a picture (0.363 <= 0.352)\n",
            ">face is a Match (0.176 <= 0.500)\n",
            ">face is a Match (0.240 <= 0.500)\n",
            ">face is a Match (0.337 <= 0.500)\n",
            ">face is a picture (0.226 <= 0.198)\n",
            ">face is a Match (0.238 <= 0.500)\n",
            ">face is a Match (0.354 <= 0.500)\n",
            ">face is a picture (0.225 <= 0.198)\n",
            ">face is a Match (0.362 <= 0.500)\n",
            ">face is a Match (0.363 <= 0.500)\n",
            ">face is a picture (0.176 <= 0.081)\n",
            ">face is a Match (0.240 <= 0.500)\n",
            ">face is a Match (0.337 <= 0.500)\n",
            ">face is a picture (0.226 <= 0.081)\n",
            ">face is a Match (0.238 <= 0.500)\n",
            ">face is a picture (0.354 <= 0.342)\n",
            ">face is a picture (0.225 <= 0.081)\n",
            ">face is a picture (0.362 <= 0.342)\n",
            ">face is a picture (0.363 <= 0.342)\n",
            "Negative Tests\n",
            ">face is a picture (0.198 <= 0.173)\n",
            ">face is a picture (0.238 <= 0.191)\n",
            ">face is a picture (0.255 <= 0.171)\n",
            ">face is a Match (0.198 <= 0.500)\n",
            ">face is a Match (0.238 <= 0.500)\n",
            ">face is a Match (0.255 <= 0.500)\n",
            ">face is a Match (0.198 <= 0.500)\n",
            ">face is a Match (0.238 <= 0.500)\n",
            ">face is a Match (0.255 <= 0.500)\n",
            ">face is a Match (0.198 <= 0.500)\n",
            ">face is a Match (0.238 <= 0.500)\n",
            ">face is a Match (0.255 <= 0.500)\n",
            ">face is a Match (0.173 <= 0.500)\n",
            ">face is a Match (0.191 <= 0.500)\n",
            ">face is a Match (0.171 <= 0.500)\n",
            ">face is a Match (0.173 <= 0.500)\n",
            ">face is a Match (0.191 <= 0.500)\n",
            ">face is a Match (0.171 <= 0.500)\n",
            ">face is a Match (0.173 <= 0.500)\n",
            ">face is a Match (0.191 <= 0.500)\n",
            ">face is a Match (0.171 <= 0.500)\n",
            ">face is a Match (0.173 <= 0.500)\n",
            ">face is a Match (0.191 <= 0.500)\n",
            ">face is a Match (0.171 <= 0.500)\n",
            ">face is a picture (0.224 <= 0.198)\n",
            ">face is a picture (0.292 <= 0.238)\n",
            ">face is a picture (0.273 <= 0.255)\n",
            ">face is a picture (0.224 <= 0.173)\n",
            ">face is a picture (0.292 <= 0.191)\n",
            ">face is a picture (0.273 <= 0.171)\n",
            ">face is a Match (0.224 <= 0.500)\n",
            ">face is a Match (0.292 <= 0.500)\n",
            ">face is a Match (0.273 <= 0.500)\n",
            ">face is a Match (0.224 <= 0.500)\n",
            ">face is a picture (0.292 <= 0.275)\n",
            ">face is a picture (0.273 <= 0.259)\n",
            ">face is a picture (0.258 <= 0.198)\n",
            ">face is a picture (0.334 <= 0.238)\n",
            ">face is a picture (0.305 <= 0.255)\n",
            ">face is a picture (0.258 <= 0.173)\n",
            ">face is a picture (0.334 <= 0.191)\n",
            ">face is a picture (0.305 <= 0.171)\n",
            ">face is a picture (0.258 <= 0.224)\n",
            ">face is a picture (0.334 <= 0.292)\n",
            ">face is a picture (0.305 <= 0.273)\n",
            ">face is a picture (0.258 <= 0.224)\n",
            ">face is a picture (0.334 <= 0.275)\n",
            ">face is a picture (0.305 <= 0.259)\n",
            ">face is a picture (0.224 <= 0.198)\n",
            ">face is a picture (0.275 <= 0.238)\n",
            ">face is a picture (0.259 <= 0.255)\n",
            ">face is a picture (0.224 <= 0.173)\n",
            ">face is a picture (0.275 <= 0.191)\n",
            ">face is a picture (0.259 <= 0.171)\n",
            ">face is a picture (0.224 <= 0.224)\n",
            ">face is a Match (0.275 <= 0.500)\n",
            ">face is a Match (0.259 <= 0.500)\n",
            ">face is a Match (0.224 <= 0.500)\n",
            ">face is a Match (0.275 <= 0.500)\n",
            ">face is a Match (0.259 <= 0.500)\n",
            ">face is a Match (0.076 <= 0.500)\n",
            ">face is a picture (0.347 <= 0.329)\n",
            ">face is a Match (0.351 <= 0.500)\n",
            ">face is a Match (0.076 <= 0.500)\n",
            ">face is a Match (0.347 <= 0.500)\n",
            ">face is a Match (0.351 <= 0.500)\n",
            ">face is a Match (0.076 <= 0.500)\n",
            ">face is a Match (0.347 <= 0.500)\n",
            ">face is a Match (0.351 <= 0.500)\n",
            ">face is a Match (0.076 <= 0.500)\n",
            ">face is a picture (0.347 <= 0.342)\n",
            ">face is a picture (0.351 <= 0.342)\n",
            ">face is a picture (0.143 <= 0.076)\n",
            ">face is a Match (0.329 <= 0.500)\n",
            ">face is a picture (0.358 <= 0.351)\n",
            ">face is a Match (0.143 <= 0.500)\n",
            ">face is a Match (0.329 <= 0.500)\n",
            ">face is a picture (0.358 <= 0.352)\n",
            ">face is a Match (0.143 <= 0.500)\n",
            ">face is a Match (0.329 <= 0.500)\n",
            ">face is a Match (0.358 <= 0.500)\n",
            ">face is a picture (0.143 <= 0.081)\n",
            ">face is a Match (0.329 <= 0.500)\n",
            ">face is a picture (0.358 <= 0.342)\n",
            ">face is a picture (0.150 <= 0.076)\n",
            ">face is a picture (0.385 <= 0.347)\n",
            ">face is a picture (0.352 <= 0.351)\n",
            ">face is a picture (0.150 <= 0.143)\n",
            ">face is a picture (0.385 <= 0.329)\n",
            ">face is a Match (0.352 <= 0.500)\n",
            ">face is a Match (0.150 <= 0.500)\n",
            ">face is a Match (0.385 <= 0.500)\n",
            ">face is a Match (0.352 <= 0.500)\n",
            ">face is a picture (0.150 <= 0.081)\n",
            ">face is a picture (0.385 <= 0.342)\n",
            ">face is a picture (0.352 <= 0.342)\n",
            ">face is a picture (0.198 <= 0.076)\n",
            ">face is a picture (0.420 <= 0.347)\n",
            ">face is a picture (0.405 <= 0.351)\n",
            ">face is a picture (0.198 <= 0.143)\n",
            ">face is a picture (0.420 <= 0.329)\n",
            ">face is a picture (0.405 <= 0.358)\n",
            ">face is a picture (0.198 <= 0.150)\n",
            ">face is a picture (0.420 <= 0.385)\n",
            ">face is a picture (0.405 <= 0.352)\n",
            ">face is a picture (0.198 <= 0.081)\n",
            ">face is a picture (0.420 <= 0.342)\n",
            ">face is a picture (0.405 <= 0.342)\n",
            ">face is a picture (0.081 <= 0.076)\n",
            ">face is a Match (0.342 <= 0.500)\n",
            ">face is a Match (0.342 <= 0.500)\n",
            ">face is a Match (0.081 <= 0.500)\n",
            ">face is a picture (0.342 <= 0.329)\n",
            ">face is a Match (0.342 <= 0.500)\n",
            ">face is a Match (0.081 <= 0.500)\n",
            ">face is a Match (0.342 <= 0.500)\n",
            ">face is a Match (0.342 <= 0.500)\n",
            ">face is a Match (0.081 <= 0.500)\n",
            ">face is a Match (0.342 <= 0.500)\n",
            ">face is a Match (0.342 <= 0.500)\n",
            "0.4666666666666667 0.5 0.5\n"
          ],
          "name": "stdout"
        }
      ]
    },
    {
      "cell_type": "code",
      "metadata": {
        "id": "Z0v_rFgnfe1m",
        "colab_type": "code",
        "colab": {
          "base_uri": "https://localhost:8080/",
          "height": 215
        },
        "outputId": "52954348-4fda-4396-dbd8-3ff474ea9125"
      },
      "source": [
        "!ls drive/\"My Drive\"/w251/w251/CameraRoll/ #\n",
        "'''\n",
        "drive/My Drive/w251/w251/CameraRoll/rodrigo_webcam.jpg\n",
        "drive/My Drive/w251/w251/CameraRoll/rigo_webcam_down.jpg\n",
        "drive/My Drive/w251/w251/CameraRoll/rigo_webcam_side.jpg\t\n",
        "drive/My Drive/w251/w251/CameraRoll/rodrigo_pic_of_pic.jpg\n",
        "drive/My Drive/w251/w251/CameraRoll/rigo_pic_of_pic.jpg\n",
        "drive/My Drive/w251/w251/CameraRoll/rigo_orig_pic.jpg\n",
        "drive/My Drive/w251/w251/CameraRoll/rigo_orig_pic_II.jpg\n",
        "'''"
      ],
      "execution_count": 39,
      "outputs": [
        {
          "output_type": "stream",
          "text": [
            "desktop.ini\t\t pic_of_pic2.jpg       rodrigo_pic_of_pic.jpg\n",
            "IMG-20190806-WA0019.jpg  pic_of_pic3.jpg       rodrigo_webcam.jpg\n",
            "IMG-20190806-WA0020.jpg  pic_of_pic_d1.jpg     WIN_20190806_21_57_36_Pro.jpg\n",
            "IMG-20190806-WA0021.jpg  pic_of_pic_d2.jpg     WIN_20190806_21_57_45_Pro.jpg\n",
            "IMG-20190806-WA0022.jpg  rigo_orig_pic_II.jpg  WIN_20190806_21_57_51_Pro.jpg\n",
            "IMG-20190806-WA0023.jpg  rigo_orig_pic.jpg     WIN_20190806_21_58_02_Pro.jpg\n",
            "IMG-20190806-WA0024.jpg  rigo_pic_of_pic.jpg   WIN_20190806_21_58_34_Pro.jpg\n",
            "IMG-20190806-WA0025.jpg  rigo_webcam_down.jpg\n",
            "pic_of_pic_1.jpg\t rigo_webcam_side.jpg\n"
          ],
          "name": "stdout"
        },
        {
          "output_type": "execute_result",
          "data": {
            "text/plain": [
              "'\\ndrive/My Drive/w251/w251/CameraRoll/rodrigo_webcam.jpg\\ndrive/My Drive/w251/w251/CameraRoll/rigo_webcam_down.jpg\\ndrive/My Drive/w251/w251/CameraRoll/rigo_webcam_side.jpg\\t\\ndrive/My Drive/w251/w251/CameraRoll/rodrigo_pic_of_pic.jpg\\ndrive/My Drive/w251/w251/CameraRoll/rigo_pic_of_pic.jpg\\ndrive/My Drive/w251/w251/CameraRoll/rigo_orig_pic.jpg\\ndrive/My Drive/w251/w251/CameraRoll/rigo_orig_pic_II.jpg\\n'"
            ]
          },
          "metadata": {
            "tags": []
          },
          "execution_count": 39
        }
      ]
    }
  ]
}